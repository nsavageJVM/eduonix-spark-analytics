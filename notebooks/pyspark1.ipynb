{
 "cells": [
  {
   "cell_type": "code",
   "execution_count": 13,
   "metadata": {
    "collapsed": false
   },
   "outputs": [
    {
     "name": "stdout",
     "output_type": "stream",
     "text": [
      "Populating the interactive namespace from numpy and matplotlib\n"
     ]
    }
   ],
   "source": [
    "%pylab inline\n",
    "import os\n",
    "import seaborn \n",
    "import matplotlib.pyplot as plt\n",
    "import natto\n",
    "import IPython\n",
    "import numpy\n",
    "from pyspark.sql import SQLContext, Row\n",
    "from pyspark.sql.types import * \n",
    "from collections import namedtuple\n",
    "pylab.rcParams['figure.figsize'] = (10.0, 8.0)\n"
   ]
  },
  {
   "cell_type": "code",
   "execution_count": 14,
   "metadata": {
    "collapsed": true
   },
   "outputs": [],
   "source": [
    "preped_data= sc.textFile(\"/user/root/analytic_out/part-r-00000\")\n",
    "hdrdata = ['idtabbYEAR',  'NETWORK', 'LABOREXP', 'STAFF', 'ELECEXP', 'KWH', 'TOTCOST', 'CAPITAL',  'LABOR',  'ELEC']\n",
    "schema   = namedtuple('Flight', hdrdata)"
   ]
  },
  {
   "cell_type": "code",
   "execution_count": 15,
   "metadata": {
    "collapsed": true
   },
   "outputs": [],
   "source": [
    "def parse(row):\n",
    "\n",
    "    return schema(*row[:11])\n"
   ]
  },
  {
   "cell_type": "code",
   "execution_count": 16,
   "metadata": {
    "collapsed": true
   },
   "outputs": [],
   "source": [
    "def mapperCAPITAL(value):\n",
    "    result_list = []\n",
    "   \n",
    "    result_list.append(value['CAPITAL'] )\n",
    "    return result_list"
   ]
  },
  {
   "cell_type": "code",
   "execution_count": 17,
   "metadata": {
    "collapsed": true
   },
   "outputs": [],
   "source": [
    "def mapper(value):\n",
    "    result_list = []\n",
    "   \n",
    "    result_list.append(value)\n",
    "    return result_list"
   ]
  },
  {
   "cell_type": "code",
   "execution_count": 18,
   "metadata": {
    "collapsed": false
   },
   "outputs": [
    {
     "name": "stdout",
     "output_type": "stream",
     "text": [
      "[u'id\\tYEAR|NETWORK|LABOREXP|STAFF|ELECEXP|KWH|TOTCOST|LABOR|ELEC|CAPITAL']\n"
     ]
    },
    {
     "data": {
      "text/plain": [
       "defaultdict(int, {10: 605})"
      ]
     },
     "metadata": {},
     "output_type": "display_data"
    },
    {
     "name": "stdout",
     "output_type": "stream",
     "text": [
      "605 10\n"
     ]
    },
    {
     "data": {
      "text/plain": [
       "{'CAPITAL': u'LABOR',\n",
       " 'ELEC': u'CAPITAL',\n",
       " 'ELECEXP': u'ELECEXP',\n",
       " 'KWH': u'KWH',\n",
       " 'LABOR': u'ELEC',\n",
       " 'LABOREXP': u'LABOREXP',\n",
       " 'NETWORK': u'NETWORK',\n",
       " 'STAFF': u'STAFF',\n",
       " 'TOTCOST': u'TOTCOST',\n",
       " 'idtabbYEAR': u'id\\tYEAR'}"
      ]
     },
     "metadata": {},
     "output_type": "display_data"
    },
    {
     "name": "stdout",
     "output_type": "stream",
     "text": [
      "Flight(idtabbYEAR=u'1\\t92', NETWORK=u'7351', LABOREXP=u'1145', STAFF=u'17', ELECEXP=u'196', KWH=u'2000', TOTCOST=u'2846', CAPITAL=u'40.2319', LABOR=u'6.886859', ELEC=u'52.88124')\n",
      "\n",
      "[[{'ELEC': u'CAPITAL', 'NETWORK': u'NETWORK', 'STAFF': u'STAFF', 'KWH': u'KWH', 'ELECEXP': u'ELECEXP', 'LABOREXP': u'LABOREXP', 'CAPITAL': u'LABOR', 'LABOR': u'ELEC', 'TOTCOST': u'TOTCOST', 'idtabbYEAR': u'id\\tYEAR'}], [{'ELEC': u'52.88124', 'NETWORK': u'7351', 'STAFF': u'17', 'KWH': u'2000', 'ELECEXP': u'196', 'LABOREXP': u'1145', 'CAPITAL': u'40.2319', 'LABOR': u'6.886859', 'TOTCOST': u'2846', 'idtabbYEAR': u'1\\t92'}], [{'ELEC': u'49.96203', 'NETWORK': u'13107', 'STAFF': u'17', 'KWH': u'1428', 'ELECEXP': u'170', 'LABOREXP': u'1148', 'CAPITAL': u'43.5839', 'LABOR': u'6.454062', 'TOTCOST': u'2634', 'idtabbYEAR': u'1\\t91'}], [{'ELEC': u'51.73502', 'NETWORK': u'13107', 'STAFF': u'16', 'KWH': u'1631', 'ELECEXP': u'163', 'LABOREXP': u'1061', 'CAPITAL': u'41.83754', 'LABOR': u'6.427445', 'TOTCOST': u'2536', 'idtabbYEAR': u'1\\t90'}]]\n",
      "\n",
      "\n",
      "[u'35.11556']\n"
     ]
    }
   ],
   "source": [
    "print preped_data.take(1) \n",
    "display( preped_data.map( lambda x: (len(x.split(\"|\")),1) ).countByKey() )\n",
    "\n",
    "\n",
    "# id, YEAR, NETWORK, LABOREXP, STAFF, ELECEXP, KWH, TOTCOST, LABOR,  ELEC,  CAPITAL\n",
    "# 1,  90,  13107,     1061,    16,     163,     1631,  2536,  3709.715, 0,   41.83754\n",
    "okdata = preped_data.map( lambda x: x.split(\"|\")).filter( lambda x: len(x) == 10 )\n",
    "print okdata.count(), len(hdrdata)\n",
    "# set it up as a dictionary\n",
    "semidata = okdata.map( lambda x: dict( zip( hdrdata, x )))\n",
    "display(semidata.take(1)[0])\n",
    "# set it up as a named tuple\n",
    "print schema(*okdata.take(3)[1])\n",
    "print\n",
    "\n",
    "# work with spark rdd's\n",
    "result = semidata.map(mapper).take(4)\n",
    "print result\n",
    "print\n",
    "print\n",
    "\n",
    "result = semidata.map(mapperCAPITAL).take(8)\n",
    "\n",
    "ct = result[4]\n",
    "print ct\n"
   ]
  }
 ],
 "metadata": {
  "kernelspec": {
   "display_name": "Python 2",
   "language": "python",
   "name": "python2"
  },
  "language_info": {
   "codemirror_mode": {
    "name": "ipython",
    "version": 2
   },
   "file_extension": ".py",
   "mimetype": "text/x-python",
   "name": "python",
   "nbconvert_exporter": "python",
   "pygments_lexer": "ipython2",
   "version": "2.7.5"
  }
 },
 "nbformat": 4,
 "nbformat_minor": 0
}
