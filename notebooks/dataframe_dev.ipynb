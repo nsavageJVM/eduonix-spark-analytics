{
 "cells": [
  {
   "cell_type": "code",
   "execution_count": 368,
   "metadata": {
    "collapsed": false
   },
   "outputs": [],
   "source": [
    "import pandas as pd\n",
    "from collections import namedtuple\n",
    "from pyspark.sql import SQLContext\n",
    "from pyspark.sql.types import *  \n",
    "sqlContext = SQLContext(sc)"
   ]
  },
  {
   "cell_type": "code",
   "execution_count": 369,
   "metadata": {
    "collapsed": false
   },
   "outputs": [
    {
     "data": {
      "text/plain": [
       "[u'1\\t90|13107|1061|16|163|1631|2536|41.83754|6.427445|51.73502',\n",
       " u'1\\t91|13107|1148|17|170|1428|2634|43.5839|6.454062|49.96203']"
      ]
     },
     "execution_count": 369,
     "metadata": {},
     "output_type": "execute_result"
    }
   ],
   "source": [
    "rawFile = sc.textFile(\"/user/root/analytic_out/part-r-00000\")\n",
    "rawFile.count()\n",
    "rawFile.take(2)\n"
   ]
  },
  {
   "cell_type": "code",
   "execution_count": 370,
   "metadata": {
    "collapsed": false
   },
   "outputs": [
    {
     "data": {
      "text/plain": [
       "[StructField(idtabbYEAR,StringType,true),\n",
       " StructField(NETWORK,StringType,true),\n",
       " StructField(LABOREXP,StringType,true),\n",
       " StructField(STAFF,StringType,true),\n",
       " StructField(ELECEXP,StringType,true),\n",
       " StructField(KWH,StringType,true),\n",
       " StructField(TOTCOST,StringType,true),\n",
       " StructField(CAPITAL,StringType,true),\n",
       " StructField(LABOR,StringType,true),\n",
       " StructField(ELEC,StringType,true)]"
      ]
     },
     "execution_count": 370,
     "metadata": {},
     "output_type": "execute_result"
    }
   ],
   "source": [
    "hdrdata = ['idtabbYEAR',  'NETWORK', 'LABOREXP', 'STAFF', 'ELECEXP', 'KWH', 'TOTCOST', 'CAPITAL',  'LABOR',  'ELEC']\n",
    "schema   = namedtuple('r_data', hdrdata)\n",
    "\n",
    "fields = [StructField(field_name, StringType(), True) for field_name in hdrdata]\n",
    "fields"
   ]
  },
  {
   "cell_type": "code",
   "execution_count": 371,
   "metadata": {
    "collapsed": false
   },
   "outputs": [
    {
     "data": {
      "text/plain": [
       "[StructField(idtabbYEAR,StringType,true),\n",
       " StructField(NETWORK,FloatType,true),\n",
       " StructField(LABOREXP,FloatType,true),\n",
       " StructField(STAFF,FloatType,true),\n",
       " StructField(ELECEXP,FloatType,true),\n",
       " StructField(KWH,FloatType,true),\n",
       " StructField(TOTCOST,FloatType,true),\n",
       " StructField(CAPITAL,FloatType,true),\n",
       " StructField(LABOR,FloatType,true),\n",
       " StructField(ELEC,FloatType,true)]"
      ]
     },
     "execution_count": 371,
     "metadata": {},
     "output_type": "execute_result"
    }
   ],
   "source": [
    "fields[1].dataType = FloatType()\n",
    "fields[2].dataType = FloatType()\n",
    "fields[3].dataType = FloatType()\n",
    "fields[4].dataType = FloatType()\n",
    "fields[5].dataType = FloatType()\n",
    "fields[6].dataType = FloatType()\n",
    "fields[7].dataType = FloatType()\n",
    "fields[8].dataType = FloatType()\n",
    "fields[9].dataType = FloatType()\n",
    "\n",
    "fields"
   ]
  },
  {
   "cell_type": "code",
   "execution_count": 372,
   "metadata": {
    "collapsed": false
   },
   "outputs": [
    {
     "data": {
      "text/plain": [
       "StructType(List(StructField(idtabbYEAR,StringType,true),StructField(NETWORK,FloatType,true),StructField(LABOREXP,FloatType,true),StructField(STAFF,FloatType,true),StructField(ELECEXP,FloatType,true),StructField(KWH,FloatType,true),StructField(TOTCOST,FloatType,true),StructField(CAPITAL,FloatType,true),StructField(LABOR,FloatType,true),StructField(ELEC,FloatType,true)))"
      ]
     },
     "execution_count": 372,
     "metadata": {},
     "output_type": "execute_result"
    }
   ],
   "source": [
    "schema = StructType(fields)\n",
    "schema"
   ]
  },
  {
   "cell_type": "code",
   "execution_count": 373,
   "metadata": {
    "collapsed": false
   },
   "outputs": [
    {
     "data": {
      "text/plain": [
       "604"
      ]
     },
     "execution_count": 373,
     "metadata": {},
     "output_type": "execute_result"
    }
   ],
   "source": [
    "data_1 = rawFile.filter(lambda l: \"\\t\" in l)\n",
    "data_1.collect()\n",
    "data_1.count()"
   ]
  },
  {
   "cell_type": "code",
   "execution_count": 374,
   "metadata": {
    "collapsed": false
   },
   "outputs": [],
   "source": [
    "data_temp = data_1.map(lambda k: k.split(\"|\")).map(lambda p: ( p[0], float(p[1]), float(p[2]), float(p[3]), float(p[4]), float(p[5]), float(p[6]), float(p[7]), float(p[8]), float(p[9]) )\n",
    ")"
   ]
  },
  {
   "cell_type": "code",
   "execution_count": 375,
   "metadata": {
    "collapsed": false
   },
   "outputs": [],
   "source": [
    "def rDD_to_List(value):\n",
    "    result_list = [] \n",
    "    result_list.append(value)\n",
    "    return result_list"
   ]
  },
  {
   "cell_type": "code",
   "execution_count": 376,
   "metadata": {
    "collapsed": true
   },
   "outputs": [],
   "source": [
    "def extract_data_as_frame(in_data ):\n",
    "    # dataset # id, YEAR, NETWORK, LABOREXP, STAFF, ELECEXP, KWH, TOTCOST, LABOR,  ELEC,  CAPITAL\n",
    "    data_list = []\n",
    "    #\n",
    "    for d_name in in_data:\n",
    "        dict1 = {}\n",
    "        # dict1.update(idtabbYEAR=d_name[0],LABOREXP=d_name[2], KWH=d_name[5], STAFF= d_name[3], TOTCOST=d_name[6]) \n",
    "        data_list.append(dict1)\n",
    "    data_as_frame = pd.DataFrame(data_list, columns=['id', 'lab', 'kwh', 'staff', 't_cost'])\n",
    "    return data_as_frame"
   ]
  },
  {
   "cell_type": "code",
   "execution_count": 377,
   "metadata": {
    "collapsed": false
   },
   "outputs": [
    {
     "ename": "AttributeError",
     "evalue": "'module' object has no attribute 'DataFrame'",
     "output_type": "error",
     "traceback": [
      "\u001b[1;31m---------------------------------------------------------------------------\u001b[0m",
      "\u001b[1;31mAttributeError\u001b[0m                            Traceback (most recent call last)",
      "\u001b[1;32m<ipython-input-377-8449101c1821>\u001b[0m in \u001b[0;36m<module>\u001b[1;34m()\u001b[0m\n\u001b[0;32m      1\u001b[0m \u001b[0mresult\u001b[0m \u001b[1;33m=\u001b[0m \u001b[0mdata_temp\u001b[0m\u001b[1;33m.\u001b[0m\u001b[0mmap\u001b[0m\u001b[1;33m(\u001b[0m\u001b[0mrDD_to_List\u001b[0m\u001b[1;33m)\u001b[0m\u001b[1;33m.\u001b[0m\u001b[0mtake\u001b[0m\u001b[1;33m(\u001b[0m\u001b[1;36m2\u001b[0m\u001b[1;33m)\u001b[0m\u001b[1;33m\u001b[0m\u001b[0m\n\u001b[0;32m      2\u001b[0m \u001b[1;31m#result = data_temp.map(extract_data_as_frame).take(4)\u001b[0m\u001b[1;33m\u001b[0m\u001b[1;33m\u001b[0m\u001b[0m\n\u001b[1;32m----> 3\u001b[1;33m \u001b[0mresultdf\u001b[0m \u001b[1;33m=\u001b[0m \u001b[0mextract_data_as_frame\u001b[0m\u001b[1;33m(\u001b[0m\u001b[0mresult\u001b[0m\u001b[1;33m)\u001b[0m\u001b[1;33m\u001b[0m\u001b[0m\n\u001b[0m\u001b[0;32m      4\u001b[0m \u001b[1;33m\u001b[0m\u001b[0m\n\u001b[0;32m      5\u001b[0m \u001b[0mresultdf\u001b[0m\u001b[1;33m\u001b[0m\u001b[0m\n",
      "\u001b[1;32m<ipython-input-376-221f7d001fe4>\u001b[0m in \u001b[0;36mextract_data_as_frame\u001b[1;34m(in_data)\u001b[0m\n\u001b[0;32m      7\u001b[0m         \u001b[1;31m# dict1.update(idtabbYEAR=d_name[0],LABOREXP=d_name[2], KWH=d_name[5], STAFF= d_name[3], TOTCOST=d_name[6])\u001b[0m\u001b[1;33m\u001b[0m\u001b[1;33m\u001b[0m\u001b[0m\n\u001b[0;32m      8\u001b[0m         \u001b[0mdata_list\u001b[0m\u001b[1;33m.\u001b[0m\u001b[0mappend\u001b[0m\u001b[1;33m(\u001b[0m\u001b[0mdict1\u001b[0m\u001b[1;33m)\u001b[0m\u001b[1;33m\u001b[0m\u001b[0m\n\u001b[1;32m----> 9\u001b[1;33m     \u001b[0mdata_as_frame\u001b[0m \u001b[1;33m=\u001b[0m \u001b[0mpd\u001b[0m\u001b[1;33m.\u001b[0m\u001b[0mDataFrame\u001b[0m\u001b[1;33m(\u001b[0m\u001b[0mdata_list\u001b[0m\u001b[1;33m,\u001b[0m \u001b[0mcolumns\u001b[0m\u001b[1;33m=\u001b[0m\u001b[1;33m[\u001b[0m\u001b[1;34m'id'\u001b[0m\u001b[1;33m,\u001b[0m \u001b[1;34m'lab'\u001b[0m\u001b[1;33m,\u001b[0m \u001b[1;34m'kwh'\u001b[0m\u001b[1;33m,\u001b[0m \u001b[1;34m'staff'\u001b[0m\u001b[1;33m,\u001b[0m \u001b[1;34m't_cost'\u001b[0m\u001b[1;33m]\u001b[0m\u001b[1;33m)\u001b[0m\u001b[1;33m\u001b[0m\u001b[0m\n\u001b[0m\u001b[0;32m     10\u001b[0m     \u001b[1;32mreturn\u001b[0m \u001b[0mdata_as_frame\u001b[0m\u001b[1;33m\u001b[0m\u001b[0m\n",
      "\u001b[1;31mAttributeError\u001b[0m: 'module' object has no attribute 'DataFrame'"
     ]
    }
   ],
   "source": [
    "result = data_temp.map(rDD_to_List).take(2)\n",
    "#result = data_temp.map(extract_data_as_frame).take(4)\n",
    "resultdf = extract_data_as_frame(result)\n",
    "\n",
    "resultdf\n",
    "\n",
    "\n",
    "\n"
   ]
  },
  {
   "cell_type": "code",
   "execution_count": null,
   "metadata": {
    "collapsed": true
   },
   "outputs": [],
   "source": []
  }
 ],
 "metadata": {
  "kernelspec": {
   "display_name": "Python 2",
   "language": "python",
   "name": "python2"
  },
  "language_info": {
   "codemirror_mode": {
    "name": "ipython",
    "version": 2
   },
   "file_extension": ".py",
   "mimetype": "text/x-python",
   "name": "python",
   "nbconvert_exporter": "python",
   "pygments_lexer": "ipython2",
   "version": "2.7.5"
  }
 },
 "nbformat": 4,
 "nbformat_minor": 0
}
