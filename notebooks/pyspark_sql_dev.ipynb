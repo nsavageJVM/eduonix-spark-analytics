{
 "cells": [
  {
   "cell_type": "code",
   "execution_count": 13,
   "metadata": {
    "collapsed": false
   },
   "outputs": [],
   "source": [
    "from pyspark.sql import SQLContext\n",
    "from pyspark.sql.types import *  "
   ]
  },
  {
   "cell_type": "code",
   "execution_count": 14,
   "metadata": {
    "collapsed": false
   },
   "outputs": [
    {
     "data": {
      "text/plain": [
       "605"
      ]
     },
     "execution_count": 14,
     "metadata": {},
     "output_type": "execute_result"
    }
   ],
   "source": [
    "sqlContext = SQLContext(sc)\n",
    "dataFile = sc.textFile(\"/user/root/analytic_out/part-r-00000\")\n",
    "dataFile.count()"
   ]
  },
  {
   "cell_type": "code",
   "execution_count": 15,
   "metadata": {
    "collapsed": false
   },
   "outputs": [
    {
     "data": {
      "text/plain": [
       "u'id\\tYEAR|NETWORK|LABOREXP|STAFF|ELECEXP|KWH|TOTCOST|LABOR|ELEC|CAPITAL'"
      ]
     },
     "execution_count": 15,
     "metadata": {},
     "output_type": "execute_result"
    }
   ],
   "source": [
    "header = dataFile.first()\n",
    "header"
   ]
  },
  {
   "cell_type": "code",
   "execution_count": 16,
   "metadata": {
    "collapsed": false
   },
   "outputs": [
    {
     "data": {
      "text/plain": [
       "StructType(List(StructField(id\tYEAR,StringType,true),StructField(NETWORK,FloatType,true),StructField(LABOREXP,FloatType,true),StructField(STAFF,FloatType,true),StructField(ELECEXP,FloatType,true),StructField(KWH,FloatType,true),StructField(TOTCOST,FloatType,true),StructField(LABOR,FloatType,true),StructField(ELEC,FloatType,true),StructField(CAPITAL,FloatType,true)))"
      ]
     },
     "execution_count": 16,
     "metadata": {},
     "output_type": "execute_result"
    }
   ],
   "source": [
    "fields = [StructField(field_name, StringType(), True) for field_name in header.split('|')]\n",
    "fields\n",
    "len(fields)\n",
    "fields[0].dataType = StringType()\n",
    "fields[1].dataType = FloatType()\n",
    "fields[2].dataType = FloatType()\n",
    "fields[3].dataType = FloatType()\n",
    "fields[4].dataType = FloatType()\n",
    "fields[5].dataType = FloatType()\n",
    "fields[6].dataType = FloatType()\n",
    "fields[7].dataType = FloatType()\n",
    "fields[8].dataType = FloatType()\n",
    "fields[9].dataType = FloatType()\n",
    "\n",
    "schema = StructType(fields)\n",
    "schema"
   ]
  },
  {
   "cell_type": "code",
   "execution_count": 17,
   "metadata": {
    "collapsed": false
   },
   "outputs": [
    {
     "data": {
      "text/plain": [
       "[u'id\\tYEAR|NETWORK|LABOREXP|STAFF|ELECEXP|KWH|TOTCOST|LABOR|ELEC|CAPITAL']"
      ]
     },
     "execution_count": 17,
     "metadata": {},
     "output_type": "execute_result"
    }
   ],
   "source": [
    "dataHeader = dataFile.filter(lambda l: \"id\" in l)\n",
    "dataHeader.collect()"
   ]
  },
  {
   "cell_type": "code",
   "execution_count": 18,
   "metadata": {
    "collapsed": false
   },
   "outputs": [
    {
     "data": {
      "text/plain": [
       "604"
      ]
     },
     "execution_count": 18,
     "metadata": {},
     "output_type": "execute_result"
    }
   ],
   "source": [
    "dataNoHeader = dataFile.subtract(dataHeader)\n",
    "dataNoHeader.count()"
   ]
  },
  {
   "cell_type": "code",
   "execution_count": 19,
   "metadata": {
    "collapsed": false
   },
   "outputs": [],
   "source": [
    "data_temp = dataNoHeader.map(lambda k: k.split(\"|\")).map(lambda p: ( p[0], float(p[1]), float(p[2]), float(p[3]), float(p[4]), float(p[5]), float(p[6]), float(p[7]), float(p[8]), float(p[9]) )\n",
    ")\n",
    "#data_temp.take(1)"
   ]
  },
  {
   "cell_type": "code",
   "execution_count": 20,
   "metadata": {
    "collapsed": false
   },
   "outputs": [],
   "source": [
    "data_df = sqlContext.createDataFrame(data_temp, schema)\n",
    "#data_df.head(2)"
   ]
  },
  {
   "cell_type": "code",
   "execution_count": 21,
   "metadata": {
    "collapsed": false
   },
   "outputs": [],
   "source": [
    "#data_df.groupBy(\"ELECEXP\").count().show()"
   ]
  },
  {
   "cell_type": "code",
   "execution_count": 22,
   "metadata": {
    "collapsed": false
   },
   "outputs": [],
   "source": [
    "#data_df.dtypes"
   ]
  },
  {
   "cell_type": "code",
   "execution_count": 23,
   "metadata": {
    "collapsed": false
   },
   "outputs": [
    {
     "name": "stdout",
     "output_type": "stream",
     "text": [
      "root\n",
      " |-- id\tYEAR: string (nullable = true)\n",
      " |-- NETWORK: float (nullable = true)\n",
      " |-- LABOREXP: float (nullable = true)\n",
      " |-- STAFF: float (nullable = true)\n",
      " |-- ELECEXP: float (nullable = true)\n",
      " |-- KWH: float (nullable = true)\n",
      " |-- TOTCOST: float (nullable = true)\n",
      " |-- LABOR: float (nullable = true)\n",
      " |-- ELEC: float (nullable = true)\n",
      " |-- CAPITAL: float (nullable = true)\n",
      "\n"
     ]
    }
   ],
   "source": [
    "data_df.printSchema()"
   ]
  },
  {
   "cell_type": "code",
   "execution_count": 24,
   "metadata": {
    "collapsed": false
   },
   "outputs": [
    {
     "name": "stdout",
     "output_type": "stream",
     "text": [
      "c0 \n",
      "397\n"
     ]
    }
   ],
   "source": [
    "data_df.registerTempTable(\"data\")\n",
    "sqlContext.sql(\"SELECT COUNT(*) FROM data WHERE STAFF > 40\").show()"
   ]
  }
 ],
 "metadata": {
  "kernelspec": {
   "display_name": "Python 2",
   "language": "python",
   "name": "python2"
  },
  "language_info": {
   "codemirror_mode": {
    "name": "ipython",
    "version": 2
   },
   "file_extension": ".py",
   "mimetype": "text/x-python",
   "name": "python",
   "nbconvert_exporter": "python",
   "pygments_lexer": "ipython2",
   "version": "2.7.5"
  }
 },
 "nbformat": 4,
 "nbformat_minor": 0
}
